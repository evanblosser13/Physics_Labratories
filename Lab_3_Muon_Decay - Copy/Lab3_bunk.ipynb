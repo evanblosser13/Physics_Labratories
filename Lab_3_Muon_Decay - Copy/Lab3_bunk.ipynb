{
 "cells": [
  {
   "cell_type": "markdown",
   "id": "cdab5067-4fa1-4ac2-932b-fd7c11dfdf60",
   "metadata": {},
   "source": [
    "# Lab 3: Muon Decay\n",
    "\n",
    "\n",
    "The Muon "
   ]
  },
  {
   "cell_type": "code",
   "execution_count": 1,
   "id": "6e979abc-f25f-491e-8409-d10fce57aba7",
   "metadata": {
    "execution": {
     "iopub.execute_input": "2023-11-16T22:45:53.628317Z",
     "iopub.status.busy": "2023-11-16T22:45:53.627545Z",
     "iopub.status.idle": "2023-11-16T22:46:02.426490Z",
     "shell.execute_reply": "2023-11-16T22:46:02.424729Z",
     "shell.execute_reply.started": "2023-11-16T22:45:53.628139Z"
    },
    "tags": []
   },
   "outputs": [],
   "source": [
    "import numpy as np\n",
    "import matplotlib.pyplot as plt\n",
    "from scipy.optimize import curve_fit\n",
    "\n",
    "\n",
    "\n",
    "Muon_Data_Files = ['23-10-30-16-26.data',\n",
    "                   '23-11-01-15-22.data',\n",
    "                   '23-11-05-13-25.data',\n",
    "                   '23-11-08-15-55.data',\n",
    "                   '23-11-13-15-59.data']\n",
    "\n",
    "number_files = len(Muon_Data_Files)\n",
    "decaytime = []\n",
    "unixtime = []\n",
    "\n",
    "for i in Muon_Data_Files:\n",
    "    decaytime_help, unixtime_help = np.genfromtxt(\n",
    "        i, unpack=True, delimiter=' '\n",
    "    )\n",
    "    decaytime.append(decaytime_help)\n",
    "    unixtime.append(unixtime_help)\n",
    "\n",
    "decaytime = np.concatenate(decaytime)\n",
    "unixtime = np.concatenate(unixtime)"
   ]
  },
  {
   "cell_type": "code",
   "execution_count": 2,
   "id": "8b43f275-fbe9-43d7-8819-25e20935065e",
   "metadata": {
    "execution": {
     "iopub.execute_input": "2023-11-16T22:46:02.428664Z",
     "iopub.status.busy": "2023-11-16T22:46:02.428272Z",
     "iopub.status.idle": "2023-11-16T22:46:02.437122Z",
     "shell.execute_reply": "2023-11-16T22:46:02.435394Z",
     "shell.execute_reply.started": "2023-11-16T22:46:02.428616Z"
    },
    "tags": []
   },
   "outputs": [],
   "source": [
    "def Fit_Func(t, tau, c1, c2):\n",
    "    return c1*np.exp(-(1/tau)*t) + c2"
   ]
  },
  {
   "cell_type": "code",
   "execution_count": 3,
   "id": "d4773c14-24c3-48b1-a9d6-d133d2f8c1a2",
   "metadata": {
    "execution": {
     "iopub.execute_input": "2023-11-16T22:46:02.449346Z",
     "iopub.status.busy": "2023-11-16T22:46:02.448955Z",
     "iopub.status.idle": "2023-11-16T22:46:02.541108Z",
     "shell.execute_reply": "2023-11-16T22:46:02.539381Z",
     "shell.execute_reply.started": "2023-11-16T22:46:02.449304Z"
    },
    "tags": []
   },
   "outputs": [],
   "source": [
    "# Background \n",
    "back_ground = \n",
    "\n",
    "\n",
    "\n",
    "unixtime = np.delete(unixtime, np.where(decaytime >= 40000))\n",
    "decaytime = np.delete(decaytime, np.where(decaytime >= 40000))\n",
    "\n"
   ]
  },
  {
   "cell_type": "code",
   "execution_count": 4,
   "id": "72417203-6ec2-4ab4-a516-ce9a3d938778",
   "metadata": {
    "execution": {
     "iopub.execute_input": "2023-11-16T22:46:02.543942Z",
     "iopub.status.busy": "2023-11-16T22:46:02.543438Z",
     "iopub.status.idle": "2023-11-16T22:46:03.510124Z",
     "shell.execute_reply": "2023-11-16T22:46:03.508105Z",
     "shell.execute_reply.started": "2023-11-16T22:46:02.543893Z"
    },
    "tags": []
   },
   "outputs": [
    {
     "data": {
      "image/png": "[encoded data removed]",
      "text/plain": [
       "<Figure size 432x288 with 1 Axes>"
      ]
     },
     "metadata": {
      "needs_background": "light"
     },
     "output_type": "display_data"
    }
   ],
   "source": [
    "counts, bins, bars = plt.hist(decaytime, bins=100)\n",
    "\n",
    "# get bin centers\n",
    "\n",
    "bin_centers = np.array([\n",
    "    (bins[i] + bins[i + 1])/2\n",
    "    for i in range(len(bins) - 1)\n",
    "])\n",
    "\n",
    "plt.scatter(\n",
    "    bin_centers, counts,\n",
    "    color='red',\n",
    "    s=2\n",
    ")\n",
    "\n",
    "plt.xlabel('decay time (ns)')\n",
    "plt.ylabel('counts')\n",
    "plt.show()"
   ]
  },
  {
   "cell_type": "code",
   "execution_count": 5,
   "id": "f8658c5d-3f37-4a91-8559-25b61fb4d28b",
   "metadata": {
    "execution": {
     "iopub.execute_input": "2023-11-16T22:46:03.512758Z",
     "iopub.status.busy": "2023-11-16T22:46:03.512318Z",
     "iopub.status.idle": "2023-11-16T22:46:03.526943Z",
     "shell.execute_reply": "2023-11-16T22:46:03.524784Z",
     "shell.execute_reply.started": "2023-11-16T22:46:03.512682Z"
    },
    "tags": []
   },
   "outputs": [],
   "source": [
    "# do the fit\n",
    "# gonna offset where the fit starts\n",
    "# since the data is weird at the beginning\n",
    "# due to flashbang effect or whateva\n",
    "tau = 2000\n",
    "c1 = 1200\n",
    "c2 = 10\n",
    "guess = np.array([tau, c1, c2])\n",
    "####\n",
    "i = 5\n",
    "popt, pcov = curve_fit(Fit_Func, bin_centers[i:], counts[i:], guess)"
   ]
  },
  {
   "cell_type": "code",
   "execution_count": 6,
   "id": "9ff3af15-aeaf-44e5-9bb2-e7f1cc7c28af",
   "metadata": {
    "execution": {
     "iopub.execute_input": "2023-11-16T22:46:03.529017Z",
     "iopub.status.busy": "2023-11-16T22:46:03.528563Z",
     "iopub.status.idle": "2023-11-16T22:46:04.445001Z",
     "shell.execute_reply": "2023-11-16T22:46:04.443029Z",
     "shell.execute_reply.started": "2023-11-16T22:46:03.528972Z"
    },
    "tags": []
   },
   "outputs": [
    {
     "data": {
      "image/png": "[encoded data removed]",
      "text/plain": [
       "<Figure size 432x288 with 1 Axes>"
      ]
     },
     "metadata": {
      "needs_background": "light"
     },
     "output_type": "display_data"
    },
    {
     "name": "stdout",
     "output_type": "stream",
     "text": [
      "2131.2114581349497\n"
     ]
    }
   ],
   "source": [
    "# plot everything\n",
    "plt.scatter(\n",
    "    bin_centers, counts,\n",
    "    color='red',\n",
    "    s=5\n",
    ")\n",
    "\n",
    "x = np.linspace(0, 20000, 100)\n",
    "plt.plot(\n",
    "    x, Fit_Func(x, *guess),\n",
    "    label='guess'\n",
    ")\n",
    "\n",
    "plt.plot(\n",
    "    x, Fit_Func(x, *popt),\n",
    "    label='fit'\n",
    ")\n",
    "\n",
    "plt.hist(decaytime, bins=100, color='gray')\n",
    "\n",
    "plt.xlabel('decay time (ns)')\n",
    "plt.ylabel('counts')\n",
    "plt.legend(bbox_to_anchor=(1.05, 1.0), loc='upper left')\n",
    "plt.show()\n",
    "print(popt[0])\n",
    "\n"
   ]
  },
  {
   "cell_type": "code",
   "execution_count": 7,
   "id": "dd646328-bc1a-4c47-b778-f3089cab6907",
   "metadata": {
    "execution": {
     "iopub.execute_input": "2023-11-16T22:46:04.447412Z",
     "iopub.status.busy": "2023-11-16T22:46:04.447012Z",
     "iopub.status.idle": "2023-11-16T22:46:04.458948Z",
     "shell.execute_reply": "2023-11-16T22:46:04.457051Z",
     "shell.execute_reply.started": "2023-11-16T22:46:04.447364Z"
    },
    "tags": []
   },
   "outputs": [
    {
     "name": "stdout",
     "output_type": "stream",
     "text": [
      "\n",
      "------------------------------------------\n",
      "| The Calculated Muon Lifetime is:\n",
      "|    2131.2114581349497 nano-seconds\n",
      "|   \n",
      "|      or \n",
      "|    2.1312114581349495 micro-seconds\n",
      "------------------------------------------\n",
      "|  This is accurate by \n",
      "|  2.995796\n",
      "|\n",
      "------------------------------------------\n",
      "\n"
     ]
    }
   ],
   "source": [
    "Muon_Decay_accepted_value = 2.19703\n",
    "\n",
    "Accuracy_percent = (Muon_Decay_accepted_value - (popt[0]/1e3))/Muon_Decay_accepted_value\n",
    "\n",
    "Muon_Decay_Output = f\"\"\"\n",
    "{'-'*42}\n",
    "| The Calculated Muon Lifetime is:\n",
    "|    {popt[0]} nano-seconds\n",
    "|   \n",
    "|      or \n",
    "|    {popt[0]/1e3} micro-seconds\n",
    "{'-'*42}\n",
    "|  This is accurate by \n",
    "|  {Accuracy_percent*100.:5f}\n",
    "|\n",
    "{'-'*42}\n",
    "\"\"\"\n",
    "print(Muon_Decay_Output)"
   ]
  },
  {
   "cell_type": "markdown",
   "id": "b42db74e-2a0c-41ee-93d6-072d9ca20310",
   "metadata": {},
   "source": [
    "# Conclusion\n",
    "\n",
    " 2.19703 ± 0.00004 μsec"
   ]
  }
 ],
 "metadata": {
  "kernelspec": {
   "display_name": "Python 3.9 (py39)",
   "language": "python",
   "name": "py39"
  },
  "language_info": {
   "codemirror_mode": {
    "name": "ipython",
    "version": 3
   },
   "file_extension": ".py",
   "mimetype": "text/x-python",
   "name": "python",
   "nbconvert_exporter": "python",
   "pygments_lexer": "ipython3",
   "version": "3.9.7"
  }
 },
 "nbformat": 4,
 "nbformat_minor": 5
}
